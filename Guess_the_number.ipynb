{
 "cells": [
  {
   "cell_type": "markdown",
   "metadata": {},
   "source": [
    "# Guess the number "
   ]
  },
  {
   "cell_type": "markdown",
   "metadata": {},
   "source": [
    "# <p style=\"text-align: center;\">--THE GAME--</p>"
   ]
  },
  {
   "cell_type": "code",
   "execution_count": 2,
   "metadata": {},
   "outputs": [],
   "source": [
    "import random"
   ]
  },
  {
   "cell_type": "code",
   "execution_count": null,
   "metadata": {},
   "outputs": [],
   "source": [
    "#Generate a random number\n",
    "number = random.randint(0, 101)\n",
    "\n",
    "chance = 1\n",
    "\n",
    "#Set the 'while' loop to start the game\n",
    "while True:\n",
    "    user = int(input(\"Guess a number between 0 & 100: \"))\n",
    "    if user < 0:\n",
    "        print('Invalid number')\n",
    "        exit()\n",
    "    if user < number:\n",
    "        print(f'You chose {user}, is too low')\n",
    "        chance += 1\n",
    "    elif user > number:\n",
    "        print(f'You chose {user}, is too high')\n",
    "        chance += 1\n",
    "        continue\n",
    "    elif user == number:\n",
    "        print(\"You got it champ!\")\n",
    "        break\n",
    "    else: \n",
    "        print(\"Invalid character\")\n",
    "        exit()\n",
    "print(f\"You took {chance} chances to guess the number\")\n",
    "    "
   ]
  }
 ],
 "metadata": {
  "kernelspec": {
   "display_name": "mi_entorno",
   "language": "python",
   "name": "python3"
  },
  "language_info": {
   "codemirror_mode": {
    "name": "ipython",
    "version": 3
   },
   "file_extension": ".py",
   "mimetype": "text/x-python",
   "name": "python",
   "nbconvert_exporter": "python",
   "pygments_lexer": "ipython3",
   "version": "3.11.9"
  }
 },
 "nbformat": 4,
 "nbformat_minor": 2
}
